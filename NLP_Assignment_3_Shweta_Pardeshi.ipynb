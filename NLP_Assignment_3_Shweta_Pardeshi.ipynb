{
  "nbformat": 4,
  "nbformat_minor": 0,
  "metadata": {
    "colab": {
      "name": "NLP_Assignment 3_Shweta Pardeshi.ipynb",
      "provenance": [],
      "machine_shape": "hm"
    },
    "kernelspec": {
      "name": "python3",
      "display_name": "Python 3"
    },
    "accelerator": "GPU"
  },
  "cells": [
    {
      "cell_type": "code",
      "metadata": {
        "id": "1pQqmgNSUQ0L",
        "colab_type": "code",
        "outputId": "0ba4e3f3-c765-4f61-f6c2-1f8a66c8fec7",
        "colab": {
          "base_uri": "https://localhost:8080/",
          "height": 34
        }
      },
      "source": [
        "from google.colab import drive\n",
        "drive.mount('/content/gdrive')\n",
        "datapath = '/content/gdrive/My Drive/Personal/'"
      ],
      "execution_count": 4,
      "outputs": [
        {
          "output_type": "stream",
          "text": [
            "Drive already mounted at /content/gdrive; to attempt to forcibly remount, call drive.mount(\"/content/gdrive\", force_remount=True).\n"
          ],
          "name": "stdout"
        }
      ]
    },
    {
      "cell_type": "code",
      "metadata": {
        "id": "9Ql4wNDDoFeo",
        "colab_type": "code",
        "outputId": "4eade230-56cc-4bd6-a745-ebc94d2ae06e",
        "colab": {
          "base_uri": "https://localhost:8080/",
          "height": 1000
        }
      },
      "source": [
        "!pip install flair"
      ],
      "execution_count": 5,
      "outputs": [
        {
          "output_type": "stream",
          "text": [
            "Requirement already satisfied: flair in /usr/local/lib/python3.6/dist-packages (0.4.4)\n",
            "Requirement already satisfied: torchvision in /usr/local/lib/python3.6/dist-packages (from flair) (0.4.2+cu100)\n",
            "Requirement already satisfied: hyperopt>=0.1.1 in /usr/local/lib/python3.6/dist-packages (from flair) (0.1.2)\n",
            "Requirement already satisfied: pymongo in /usr/local/lib/python3.6/dist-packages (from flair) (3.9.0)\n",
            "Requirement already satisfied: matplotlib>=2.2.3 in /usr/local/lib/python3.6/dist-packages (from flair) (3.1.1)\n",
            "Requirement already satisfied: transformers>=2.0.0 in /usr/local/lib/python3.6/dist-packages (from flair) (2.1.1)\n",
            "Requirement already satisfied: tabulate in /usr/local/lib/python3.6/dist-packages (from flair) (0.8.5)\n",
            "Requirement already satisfied: regex in /usr/local/lib/python3.6/dist-packages (from flair) (2019.11.1)\n",
            "Requirement already satisfied: segtok>=1.5.7 in /usr/local/lib/python3.6/dist-packages (from flair) (1.5.7)\n",
            "Requirement already satisfied: bpemb>=0.2.9 in /usr/local/lib/python3.6/dist-packages (from flair) (0.3.0)\n",
            "Requirement already satisfied: tiny-tokenizer[all] in /usr/local/lib/python3.6/dist-packages (from flair) (3.0.1)\n",
            "Requirement already satisfied: langdetect in /usr/local/lib/python3.6/dist-packages (from flair) (1.0.7)\n",
            "Requirement already satisfied: deprecated>=1.2.4 in /usr/local/lib/python3.6/dist-packages (from flair) (1.2.7)\n",
            "Requirement already satisfied: ipython==7.6.1 in /usr/local/lib/python3.6/dist-packages (from flair) (7.6.1)\n",
            "Requirement already satisfied: ipython-genutils==0.2.0 in /usr/local/lib/python3.6/dist-packages (from flair) (0.2.0)\n",
            "Requirement already satisfied: urllib3<1.25,>=1.20 in /usr/local/lib/python3.6/dist-packages (from flair) (1.24.3)\n",
            "Requirement already satisfied: pytest>=3.6.4 in /usr/local/lib/python3.6/dist-packages (from flair) (3.6.4)\n",
            "Requirement already satisfied: sqlitedict>=1.6.0 in /usr/local/lib/python3.6/dist-packages (from flair) (1.6.0)\n",
            "Requirement already satisfied: tqdm>=4.26.0 in /usr/local/lib/python3.6/dist-packages (from flair) (4.28.1)\n",
            "Requirement already satisfied: gensim>=3.4.0 in /usr/local/lib/python3.6/dist-packages (from flair) (3.6.0)\n",
            "Requirement already satisfied: sklearn in /usr/local/lib/python3.6/dist-packages (from flair) (0.0)\n",
            "Requirement already satisfied: torch>=1.1.0 in /usr/local/lib/python3.6/dist-packages (from flair) (1.3.1+cu100)\n",
            "Requirement already satisfied: mpld3==0.3 in /usr/local/lib/python3.6/dist-packages (from flair) (0.3)\n",
            "Requirement already satisfied: numpy in /usr/local/lib/python3.6/dist-packages (from torchvision->flair) (1.17.4)\n",
            "Requirement already satisfied: pillow>=4.1.1 in /usr/local/lib/python3.6/dist-packages (from torchvision->flair) (4.3.0)\n",
            "Requirement already satisfied: six in /usr/local/lib/python3.6/dist-packages (from torchvision->flair) (1.12.0)\n",
            "Requirement already satisfied: networkx in /usr/local/lib/python3.6/dist-packages (from hyperopt>=0.1.1->flair) (2.4)\n",
            "Requirement already satisfied: future in /usr/local/lib/python3.6/dist-packages (from hyperopt>=0.1.1->flair) (0.16.0)\n",
            "Requirement already satisfied: scipy in /usr/local/lib/python3.6/dist-packages (from hyperopt>=0.1.1->flair) (1.3.2)\n",
            "Requirement already satisfied: pyparsing!=2.0.4,!=2.1.2,!=2.1.6,>=2.0.1 in /usr/local/lib/python3.6/dist-packages (from matplotlib>=2.2.3->flair) (2.4.5)\n",
            "Requirement already satisfied: python-dateutil>=2.1 in /usr/local/lib/python3.6/dist-packages (from matplotlib>=2.2.3->flair) (2.6.1)\n",
            "Requirement already satisfied: cycler>=0.10 in /usr/local/lib/python3.6/dist-packages (from matplotlib>=2.2.3->flair) (0.10.0)\n",
            "Requirement already satisfied: kiwisolver>=1.0.1 in /usr/local/lib/python3.6/dist-packages (from matplotlib>=2.2.3->flair) (1.1.0)\n",
            "Requirement already satisfied: boto3 in /usr/local/lib/python3.6/dist-packages (from transformers>=2.0.0->flair) (1.10.14)\n",
            "Requirement already satisfied: requests in /usr/local/lib/python3.6/dist-packages (from transformers>=2.0.0->flair) (2.21.0)\n",
            "Requirement already satisfied: sentencepiece in /usr/local/lib/python3.6/dist-packages (from transformers>=2.0.0->flair) (0.1.83)\n",
            "Requirement already satisfied: sacremoses in /usr/local/lib/python3.6/dist-packages (from transformers>=2.0.0->flair) (0.0.35)\n",
            "Requirement already satisfied: kytea; extra == \"all\" in /usr/local/lib/python3.6/dist-packages (from tiny-tokenizer[all]->flair) (0.1.4)\n",
            "Requirement already satisfied: natto-py; extra == \"all\" in /usr/local/lib/python3.6/dist-packages (from tiny-tokenizer[all]->flair) (0.9.0)\n",
            "Requirement already satisfied: SudachiPy; extra == \"all\" in /usr/local/lib/python3.6/dist-packages (from tiny-tokenizer[all]->flair) (0.4.0)\n",
            "Requirement already satisfied: wrapt<2,>=1.10 in /usr/local/lib/python3.6/dist-packages (from deprecated>=1.2.4->flair) (1.11.2)\n",
            "Requirement already satisfied: backcall in /usr/local/lib/python3.6/dist-packages (from ipython==7.6.1->flair) (0.1.0)\n",
            "Requirement already satisfied: prompt-toolkit<2.1.0,>=2.0.0 in /usr/local/lib/python3.6/dist-packages (from ipython==7.6.1->flair) (2.0.10)\n",
            "Requirement already satisfied: setuptools>=18.5 in /usr/local/lib/python3.6/dist-packages (from ipython==7.6.1->flair) (41.4.0)\n",
            "Requirement already satisfied: traitlets>=4.2 in /usr/local/lib/python3.6/dist-packages (from ipython==7.6.1->flair) (4.3.3)\n",
            "Requirement already satisfied: pygments in /usr/local/lib/python3.6/dist-packages (from ipython==7.6.1->flair) (2.1.3)\n",
            "Requirement already satisfied: pexpect; sys_platform != \"win32\" in /usr/local/lib/python3.6/dist-packages (from ipython==7.6.1->flair) (4.7.0)\n",
            "Requirement already satisfied: pickleshare in /usr/local/lib/python3.6/dist-packages (from ipython==7.6.1->flair) (0.7.5)\n",
            "Requirement already satisfied: jedi>=0.10 in /usr/local/lib/python3.6/dist-packages (from ipython==7.6.1->flair) (0.15.1)\n",
            "Requirement already satisfied: decorator in /usr/local/lib/python3.6/dist-packages (from ipython==7.6.1->flair) (4.4.1)\n",
            "Requirement already satisfied: py>=1.5.0 in /usr/local/lib/python3.6/dist-packages (from pytest>=3.6.4->flair) (1.8.0)\n",
            "Requirement already satisfied: more-itertools>=4.0.0 in /usr/local/lib/python3.6/dist-packages (from pytest>=3.6.4->flair) (7.2.0)\n",
            "Requirement already satisfied: atomicwrites>=1.0 in /usr/local/lib/python3.6/dist-packages (from pytest>=3.6.4->flair) (1.3.0)\n",
            "Requirement already satisfied: attrs>=17.4.0 in /usr/local/lib/python3.6/dist-packages (from pytest>=3.6.4->flair) (19.3.0)\n",
            "Requirement already satisfied: pluggy<0.8,>=0.5 in /usr/local/lib/python3.6/dist-packages (from pytest>=3.6.4->flair) (0.7.1)\n",
            "Requirement already satisfied: smart-open>=1.2.1 in /usr/local/lib/python3.6/dist-packages (from gensim>=3.4.0->flair) (1.9.0)\n",
            "Requirement already satisfied: scikit-learn in /usr/local/lib/python3.6/dist-packages (from sklearn->flair) (0.21.3)\n",
            "Requirement already satisfied: olefile in /usr/local/lib/python3.6/dist-packages (from pillow>=4.1.1->torchvision->flair) (0.46)\n",
            "Requirement already satisfied: botocore<1.14.0,>=1.13.14 in /usr/local/lib/python3.6/dist-packages (from boto3->transformers>=2.0.0->flair) (1.13.14)\n",
            "Requirement already satisfied: s3transfer<0.3.0,>=0.2.0 in /usr/local/lib/python3.6/dist-packages (from boto3->transformers>=2.0.0->flair) (0.2.1)\n",
            "Requirement already satisfied: jmespath<1.0.0,>=0.7.1 in /usr/local/lib/python3.6/dist-packages (from boto3->transformers>=2.0.0->flair) (0.9.4)\n",
            "Requirement already satisfied: chardet<3.1.0,>=3.0.2 in /usr/local/lib/python3.6/dist-packages (from requests->transformers>=2.0.0->flair) (3.0.4)\n",
            "Requirement already satisfied: idna<2.9,>=2.5 in /usr/local/lib/python3.6/dist-packages (from requests->transformers>=2.0.0->flair) (2.8)\n",
            "Requirement already satisfied: certifi>=2017.4.17 in /usr/local/lib/python3.6/dist-packages (from requests->transformers>=2.0.0->flair) (2019.9.11)\n",
            "Requirement already satisfied: click in /usr/local/lib/python3.6/dist-packages (from sacremoses->transformers>=2.0.0->flair) (7.0)\n",
            "Requirement already satisfied: joblib in /usr/local/lib/python3.6/dist-packages (from sacremoses->transformers>=2.0.0->flair) (0.14.0)\n",
            "Requirement already satisfied: cffi in /usr/local/lib/python3.6/dist-packages (from natto-py; extra == \"all\"->tiny-tokenizer[all]->flair) (1.13.2)\n",
            "Requirement already satisfied: dartsclone~=0.6.0 in /usr/local/lib/python3.6/dist-packages (from SudachiPy; extra == \"all\"->tiny-tokenizer[all]->flair) (0.6)\n",
            "Requirement already satisfied: sortedcontainers~=2.1.0 in /usr/local/lib/python3.6/dist-packages (from SudachiPy; extra == \"all\"->tiny-tokenizer[all]->flair) (2.1.0)\n",
            "Requirement already satisfied: wcwidth in /usr/local/lib/python3.6/dist-packages (from prompt-toolkit<2.1.0,>=2.0.0->ipython==7.6.1->flair) (0.1.7)\n",
            "Requirement already satisfied: ptyprocess>=0.5 in /usr/local/lib/python3.6/dist-packages (from pexpect; sys_platform != \"win32\"->ipython==7.6.1->flair) (0.6.0)\n",
            "Requirement already satisfied: parso>=0.5.0 in /usr/local/lib/python3.6/dist-packages (from jedi>=0.10->ipython==7.6.1->flair) (0.5.1)\n",
            "Requirement already satisfied: boto>=2.32 in /usr/local/lib/python3.6/dist-packages (from smart-open>=1.2.1->gensim>=3.4.0->flair) (2.49.0)\n",
            "Requirement already satisfied: docutils<0.16,>=0.10 in /usr/local/lib/python3.6/dist-packages (from botocore<1.14.0,>=1.13.14->boto3->transformers>=2.0.0->flair) (0.15.2)\n",
            "Requirement already satisfied: pycparser in /usr/local/lib/python3.6/dist-packages (from cffi->natto-py; extra == \"all\"->tiny-tokenizer[all]->flair) (2.19)\n",
            "Requirement already satisfied: Cython in /usr/local/lib/python3.6/dist-packages (from dartsclone~=0.6.0->SudachiPy; extra == \"all\"->tiny-tokenizer[all]->flair) (0.29.14)\n"
          ],
          "name": "stdout"
        }
      ]
    },
    {
      "cell_type": "code",
      "metadata": {
        "id": "4hdBgW1plsMP",
        "colab_type": "code",
        "colab": {
          "base_uri": "https://localhost:8080/",
          "height": 168
        },
        "outputId": "9fc786e7-e4cc-471c-be28-c7d5a1f22bbc"
      },
      "source": [
        "!pip install keras_Self_attention"
      ],
      "execution_count": 6,
      "outputs": [
        {
          "output_type": "stream",
          "text": [
            "Requirement already satisfied: keras_Self_attention in /usr/local/lib/python3.6/dist-packages (0.42.0)\n",
            "Requirement already satisfied: numpy in /usr/local/lib/python3.6/dist-packages (from keras_Self_attention) (1.17.4)\n",
            "Requirement already satisfied: Keras in /usr/local/lib/python3.6/dist-packages (from keras_Self_attention) (2.2.5)\n",
            "Requirement already satisfied: keras-preprocessing>=1.1.0 in /usr/local/lib/python3.6/dist-packages (from Keras->keras_Self_attention) (1.1.0)\n",
            "Requirement already satisfied: six>=1.9.0 in /usr/local/lib/python3.6/dist-packages (from Keras->keras_Self_attention) (1.12.0)\n",
            "Requirement already satisfied: pyyaml in /usr/local/lib/python3.6/dist-packages (from Keras->keras_Self_attention) (3.13)\n",
            "Requirement already satisfied: keras-applications>=1.0.8 in /usr/local/lib/python3.6/dist-packages (from Keras->keras_Self_attention) (1.0.8)\n",
            "Requirement already satisfied: h5py in /usr/local/lib/python3.6/dist-packages (from Keras->keras_Self_attention) (2.8.0)\n",
            "Requirement already satisfied: scipy>=0.14 in /usr/local/lib/python3.6/dist-packages (from Keras->keras_Self_attention) (1.3.2)\n"
          ],
          "name": "stdout"
        }
      ]
    },
    {
      "cell_type": "code",
      "metadata": {
        "id": "LUGpENyEUt5w",
        "colab_type": "code",
        "colab": {}
      },
      "source": [
        "#importing required libraries\n",
        "#Reference: https://github.com/amsuhane/Humour-Detection-in-English-Hindi-Code-Mixed-Text\n",
        "from __future__ import print_function\n",
        "import numpy as np\n",
        "from flair.data import Sentence\n",
        "import re\n",
        "from flair.embeddings import BertEmbeddings\n",
        "import sklearn\n",
        "from sklearn.metrics import classification_report\n",
        "from keras_self_attention import SeqSelfAttention\n",
        "from keras.layers import GRU\n",
        "from keras.models import Sequential\n",
        "from keras.layers import Dense, Dropout, Embedding, LSTM, Bidirectional\n",
        "from keras.preprocessing import sequence"
      ],
      "execution_count": 0,
      "outputs": []
    },
    {
      "cell_type": "code",
      "metadata": {
        "id": "Yk89eqOJUk3h",
        "colab_type": "code",
        "colab": {}
      },
      "source": [
        "#Import the train and test data\n",
        "train= [[]]\n",
        "train_label =['negative']\n",
        "train_ID = []\n",
        "with open (datapath + \"nlp assignment 3/train.txt\") as file:\n",
        "   line = file.readline()\n",
        "   for cnt, line in enumerate(file):\n",
        "     if len(line.split())== 2 :\n",
        "       if (len(line.split()[1]) != \"O\"):\n",
        "         train[-1].append(line.split())\n",
        "     if len(line.split()) == 3:\n",
        "       train.append([])\n",
        "       train_label.append(line.split()[2])\n",
        "       train_ID.append(line.split()[1])\n",
        "   "
      ],
      "execution_count": 0,
      "outputs": []
    },
    {
      "cell_type": "code",
      "metadata": {
        "id": "YZILty3isrKu",
        "colab_type": "code",
        "colab": {}
      },
      "source": [
        "test= [[]]\n",
        "test_label = ['neutral']\n",
        "test_ID = []\n",
        "with open (datapath + \"nlp assignment 3/test.txt\") as file:\n",
        "   line = file.readline()\n",
        "   for cnt, line in enumerate(file):\n",
        "     if  len(line.split())==2:\n",
        "       if (len(line.split()[1]) != \"O\"):\n",
        "         test[-1].append(line.split())\n",
        "     if len(line.split()) ==3:\n",
        "       test.append([])\n",
        "       test_label.append(line.split()[2])\n",
        "       test_ID.append(line.split()[1])\n"
      ],
      "execution_count": 0,
      "outputs": []
    },
    {
      "cell_type": "code",
      "metadata": {
        "id": "Pr-D4Or4wNlq",
        "colab_type": "code",
        "colab": {}
      },
      "source": [
        "label_dict = {'positive': [1,0,0], 'neutral': [0,1,0], 'negative': [0,0,1]}\n",
        "\n",
        "train_label_encode = []\n",
        "for word in train_label:\n",
        "  train_label_encode.append(label_dict[word])\n",
        "\n",
        "test_label_encode = []\n",
        "for word in test_label:\n",
        "  test_label_encode.append(label_dict[word])\n",
        "\n",
        "train_label_encode = np.array(train_label_encode)\n",
        "test_label_encode = np.array(test_label_encode)"
      ],
      "execution_count": 0,
      "outputs": []
    },
    {
      "cell_type": "code",
      "metadata": {
        "id": "lZ5RpFavWuuy",
        "colab_type": "code",
        "colab": {}
      },
      "source": [
        "train_data = []\n",
        "for i in range(len(train)):\n",
        "  sent = \" \".join([j[0] for j in train[i]])\n",
        "  train_data.append(sent)"
      ],
      "execution_count": 0,
      "outputs": []
    },
    {
      "cell_type": "code",
      "metadata": {
        "id": "nbXPl9sm3UPy",
        "colab_type": "code",
        "colab": {}
      },
      "source": [
        "test_data = []\n",
        "for i in range(len(test)):\n",
        "  sent = \" \".join([j[0] for j in test[i]])\n",
        "  test_data.append(sent)"
      ],
      "execution_count": 0,
      "outputs": []
    },
    {
      "cell_type": "code",
      "metadata": {
        "id": "V0tRWAQs3b-c",
        "colab_type": "code",
        "colab": {}
      },
      "source": [
        "#Preprocessing\n",
        "for i in range(len(train_data)):\n",
        "  string = train_data[i]\n",
        "  string = re.sub(r\"(http)[^\\s]*\", \"\",string )\n",
        "  string = re.sub(r\"@[^\\s]*\", \"\" , string)\n",
        "  string = re.sub(r\"#[^\\s]*\", \"\", string)\n",
        "  string = re.sub(r\"(pic.twitter)[^\\s]*\", \"\", string)\n",
        "  string = re.sub(r\":[a-zA-Z0-9\\s]\", \"\", string)\n",
        "  string = re.sub(r'[^a-zA-Z0-9\\s]', \"\", string)\n",
        "  string = string.lower()\n",
        "  train_data[i] = string\n",
        "for i in range(len(test_data)):\n",
        "  string = test_data[i]\n",
        "  string = re.sub(r\"(http)[^\\s]*\", \"\",string )\n",
        "  string = re.sub(r\"@[^\\s]*\", \"\" , string)\n",
        "  string = re.sub(r\"#[^\\s]*\", \"\", string)\n",
        "  string = re.sub(r\"(pic.twitter)[^\\s]*\", \"\", string)\n",
        "  string = re.sub(r\":[a-zA-Z0-9\\s]\", \"\", string)\n",
        "  string = re.sub(r'[^a-zA-Z0-9\\s]', \"\", string)\n",
        "  string = string.lower()\n",
        "  test_data[i] = string"
      ],
      "execution_count": 0,
      "outputs": []
    },
    {
      "cell_type": "code",
      "metadata": {
        "id": "OY--0erX5SEn",
        "colab_type": "code",
        "colab": {}
      },
      "source": [
        "emd_bert = BertEmbeddings(\"bert-base-cased\")"
      ],
      "execution_count": 0,
      "outputs": []
    },
    {
      "cell_type": "code",
      "metadata": {
        "id": "QVRiGC_zW0Fc",
        "colab_type": "code",
        "colab": {}
      },
      "source": [
        "train_data_emd = []\n",
        "for sent in train_data:\n",
        "  sentence = Sentence(sent)\n",
        "  train_data_emd.append(emd_bert.embed(sentence))\n",
        "\n",
        "test_data_emd = []\n",
        "for sent in test_data:\n",
        "  sentence = Sentence(sent)\n",
        "  test_data_emd.append(emd_bert.embed(sentence))"
      ],
      "execution_count": 0,
      "outputs": []
    },
    {
      "cell_type": "code",
      "metadata": {
        "id": "fJ4bSsYY5u0N",
        "colab_type": "code",
        "colab": {}
      },
      "source": [
        "BertEmd_train= []\n",
        "for i in train_data_emd:\n",
        "  l=[]\n",
        "  for j in i[0]:\n",
        "    l.append(np.array(j.embedding.cpu()))\n",
        "  BertEmb_train.append(np.array(l))\n",
        "\n",
        "BertEmd_test= []\n",
        "for i in test_data_emd:\n",
        "  l=[]\n",
        "  for j in i[0]:\n",
        "    l.append(np.array(j.embedding.cpu()))\n",
        "  BertEmb_test.append(np.array(l))"
      ],
      "execution_count": 0,
      "outputs": []
    },
    {
      "cell_type": "code",
      "metadata": {
        "id": "NBmwYA_5oI2C",
        "colab_type": "code",
        "colab": {}
      },
      "source": [
        "np.save(\"BertEmd_train\",  BertEmd_train, allow_pickle=True, fix_imports=True)\n",
        "np.save(\"BertEmd_test\",  BertEmd_test, allow_pickle=True, fix_imports=True)"
      ],
      "execution_count": 0,
      "outputs": []
    },
    {
      "cell_type": "code",
      "metadata": {
        "id": "_-Me0xmzoCd_",
        "colab_type": "code",
        "colab": {}
      },
      "source": [
        "BertEmd_test = np.load(datapath + \"BertEmd_test.npy\", allow_pickle = True, fix_imports = True)"
      ],
      "execution_count": 0,
      "outputs": []
    },
    {
      "cell_type": "code",
      "metadata": {
        "id": "Omw-78xlnXC8",
        "colab_type": "code",
        "colab": {}
      },
      "source": [
        "BertEmd_train = np.load(datapath + \"BertEmd_train.npy\", allow_pickle = True, fix_imports = True)"
      ],
      "execution_count": 0,
      "outputs": []
    },
    {
      "cell_type": "code",
      "metadata": {
        "id": "ANzd0FCXq44W",
        "colab_type": "code",
        "colab": {}
      },
      "source": [
        "maximum_train_length= max([len(tweet.split()) for tweet in train_data])\n",
        "maximum_test_length= max([len(tweet.split()) for tweet in test_data])"
      ],
      "execution_count": 0,
      "outputs": []
    },
    {
      "cell_type": "code",
      "metadata": {
        "id": "0c8BjZv95TLM",
        "colab_type": "code",
        "colab": {}
      },
      "source": [
        "BertEmd_train = sequence.pad_sequences(BertEmd_train, maxlen=31)\n",
        "BertEmd_test = sequence.pad_sequences(BertEmd_test, maxlen=31)"
      ],
      "execution_count": 0,
      "outputs": []
    },
    {
      "cell_type": "code",
      "metadata": {
        "id": "I_5ZsdHOWjcS",
        "colab_type": "code",
        "outputId": "1224e0e4-5a65-4680-c7cc-5e71895805cb",
        "colab": {
          "base_uri": "https://localhost:8080/",
          "height": 454
        }
      },
      "source": [
        "model = Sequential()\n",
        "model.add(Bidirectional(LSTM(64,return_sequences=True), input_shape=(31, 3072)))\n",
        "model.add(SeqSelfAttention(attention_activation='relu'))\n",
        "model.add(GRU(5, dropout=0.5, recurrent_dropout=0.5, return_sequences=False))\n",
        "model.add(Dropout(0.5))\n",
        "model.add(Dense(3, activation='softmax'))\n",
        "model.compile(loss='categorical_crossentropy', optimizer='Adam', metrics=['accuracy'])\n",
        "model.fit(BertEmd_train, train_label_encode, validation_split=0.2,\tbatch_size=32, epochs=12)"
      ],
      "execution_count": 33,
      "outputs": [
        {
          "output_type": "stream",
          "text": [
            "Train on 12104 samples, validate on 3027 samples\n",
            "Epoch 1/12\n",
            "12104/12104 [==============================] - 71s 6ms/step - loss: 1.0173 - acc: 0.4703 - val_loss: 0.9433 - val_acc: 0.5368\n",
            "Epoch 2/12\n",
            "12104/12104 [==============================] - 67s 6ms/step - loss: 0.9289 - acc: 0.5503 - val_loss: 0.9150 - val_acc: 0.5428\n",
            "Epoch 3/12\n",
            "12104/12104 [==============================] - 67s 6ms/step - loss: 0.8707 - acc: 0.5882 - val_loss: 0.8982 - val_acc: 0.5576\n",
            "Epoch 4/12\n",
            "12104/12104 [==============================] - 67s 6ms/step - loss: 0.8223 - acc: 0.6248 - val_loss: 0.9090 - val_acc: 0.5633\n",
            "Epoch 5/12\n",
            "12104/12104 [==============================] - 67s 6ms/step - loss: 0.7505 - acc: 0.6739 - val_loss: 1.0183 - val_acc: 0.5206\n",
            "Epoch 6/12\n",
            "12104/12104 [==============================] - 67s 6ms/step - loss: 0.6886 - acc: 0.7172 - val_loss: 1.0087 - val_acc: 0.5378\n",
            "Epoch 7/12\n",
            "12104/12104 [==============================] - 67s 6ms/step - loss: 0.6210 - acc: 0.7575 - val_loss: 1.0891 - val_acc: 0.5388\n",
            "Epoch 8/12\n",
            "12104/12104 [==============================] - 68s 6ms/step - loss: 0.5528 - acc: 0.7898 - val_loss: 1.0915 - val_acc: 0.5573\n",
            "Epoch 9/12\n",
            "12104/12104 [==============================] - 67s 6ms/step - loss: 0.5112 - acc: 0.8130 - val_loss: 1.1457 - val_acc: 0.5510\n",
            "Epoch 10/12\n",
            "12104/12104 [==============================] - 67s 6ms/step - loss: 0.4610 - acc: 0.8401 - val_loss: 1.2443 - val_acc: 0.5434\n",
            "Epoch 11/12\n",
            "12104/12104 [==============================] - 67s 6ms/step - loss: 0.4304 - acc: 0.8499 - val_loss: 1.3493 - val_acc: 0.5405\n",
            "Epoch 12/12\n",
            "12104/12104 [==============================] - 68s 6ms/step - loss: 0.4064 - acc: 0.8609 - val_loss: 1.3418 - val_acc: 0.5619\n"
          ],
          "name": "stdout"
        },
        {
          "output_type": "execute_result",
          "data": {
            "text/plain": [
              "<keras.callbacks.History at 0x7fae180551d0>"
            ]
          },
          "metadata": {
            "tags": []
          },
          "execution_count": 33
        }
      ]
    },
    {
      "cell_type": "code",
      "metadata": {
        "id": "81Zf5pdOnOaN",
        "colab_type": "code",
        "colab": {
          "base_uri": "https://localhost:8080/",
          "height": 564
        },
        "outputId": "84b330b4-a7e1-43fc-f675-ec181e93af66"
      },
      "source": [
        "from keras.utils import plot_model\n",
        "plot_model(model, to_file='model.png')"
      ],
      "execution_count": 37,
      "outputs": [
        {
          "output_type": "execute_result",
          "data": {
            "image/png": "[encoded data removed]",
            "text/plain": [
              "<IPython.core.display.Image object>"
            ]
          },
          "metadata": {
            "tags": []
          },
          "execution_count": 37
        }
      ]
    },
    {
      "cell_type": "code",
      "metadata": {
        "id": "ieYRaCNdsHYN",
        "colab_type": "code",
        "colab": {
          "base_uri": "https://localhost:8080/",
          "height": 319
        },
        "outputId": "eb4f6336-da3b-4077-f36c-f9bc94203e96"
      },
      "source": [
        "model.summary()"
      ],
      "execution_count": 38,
      "outputs": [
        {
          "output_type": "stream",
          "text": [
            "Model: \"sequential_4\"\n",
            "_________________________________________________________________\n",
            "Layer (type)                 Output Shape              Param #   \n",
            "=================================================================\n",
            "bidirectional_4 (Bidirection (None, 31, 128)           1606144   \n",
            "_________________________________________________________________\n",
            "seq_self_attention_4 (SeqSel (None, 31, 128)           8257      \n",
            "_________________________________________________________________\n",
            "gru_4 (GRU)                  (None, 5)                 2010      \n",
            "_________________________________________________________________\n",
            "dropout_4 (Dropout)          (None, 5)                 0         \n",
            "_________________________________________________________________\n",
            "dense_4 (Dense)              (None, 3)                 18        \n",
            "=================================================================\n",
            "Total params: 1,616,429\n",
            "Trainable params: 1,616,429\n",
            "Non-trainable params: 0\n",
            "_________________________________________________________________\n"
          ],
          "name": "stdout"
        }
      ]
    },
    {
      "cell_type": "code",
      "metadata": {
        "id": "Y0uv_q913efR",
        "colab_type": "code",
        "colab": {
          "base_uri": "https://localhost:8080/",
          "height": 50
        },
        "outputId": "3042a59a-c9d9-46ad-b7b4-024b3d26a6b1"
      },
      "source": [
        "model.evaluate(BertEmd_test,test_label_encode)"
      ],
      "execution_count": 39,
      "outputs": [
        {
          "output_type": "stream",
          "text": [
            "1869/1869 [==============================] - 4s 2ms/step\n"
          ],
          "name": "stdout"
        },
        {
          "output_type": "execute_result",
          "data": {
            "text/plain": [
              "[1.4620364133912398, 0.5377207063238145]"
            ]
          },
          "metadata": {
            "tags": []
          },
          "execution_count": 39
        }
      ]
    },
    {
      "cell_type": "code",
      "metadata": {
        "id": "RsVw-Tx-hdyC",
        "colab_type": "code",
        "colab": {}
      },
      "source": [
        "y_pred = model.predict_classes(BertEmd_test, batch_size = 10, verbose = 0)"
      ],
      "execution_count": 0,
      "outputs": []
    },
    {
      "cell_type": "code",
      "metadata": {
        "id": "K1exF7YsiGJn",
        "colab_type": "code",
        "colab": {}
      },
      "source": [
        "y_dict = {0: [1,0,0], 1 : [0,1,0], 2: [0,0,1]}\n",
        "\n",
        "test_pred = []\n",
        "for i in y_pred:\n",
        "  test_pred.append(y_dict[i])\n",
        "\n",
        "test_pred = np.array(test_pred)"
      ],
      "execution_count": 0,
      "outputs": []
    },
    {
      "cell_type": "code",
      "metadata": {
        "id": "s0K4tAhsNpxi",
        "colab_type": "code",
        "colab": {
          "base_uri": "https://localhost:8080/",
          "height": 54
        },
        "outputId": "c16669c2-637b-4721-dcdd-7d7fd2d3b201"
      },
      "source": [
        "sklearn.metrics.classification_report(test_label_encode, test_pred)"
      ],
      "execution_count": 44,
      "outputs": [
        {
          "output_type": "execute_result",
          "data": {
            "text/plain": [
              "'              precision    recall  f1-score   support\\n\\n           0       0.60      0.53      0.56       582\\n           1       0.50      0.59      0.54       754\\n           2       0.54      0.47      0.51       533\\n\\n   micro avg       0.54      0.54      0.54      1869\\n   macro avg       0.55      0.53      0.54      1869\\nweighted avg       0.54      0.54      0.54      1869\\n samples avg       0.54      0.54      0.54      1869\\n'"
            ]
          },
          "metadata": {
            "tags": []
          },
          "execution_count": 44
        }
      ]
    },
    {
      "cell_type": "code",
      "metadata": {
        "id": "XpRZpBesWnnl",
        "colab_type": "code",
        "colab": {}
      },
      "source": [
        ""
      ],
      "execution_count": 0,
      "outputs": []
    }
  ]
}